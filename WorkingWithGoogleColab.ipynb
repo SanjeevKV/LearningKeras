{
  "nbformat": 4,
  "nbformat_minor": 0,
  "metadata": {
    "colab": {
      "name": "WorkingWithGoogleColab",
      "version": "0.3.2",
      "provenance": [],
      "include_colab_link": true
    },
    "kernelspec": {
      "name": "python3",
      "display_name": "Python 3"
    },
    "accelerator": "GPU"
  },
  "cells": [
    {
      "cell_type": "markdown",
      "metadata": {
        "id": "view-in-github",
        "colab_type": "text"
      },
      "source": [
        "<a href=\"https://colab.research.google.com/github/SanjeevKV/LearningKeras/blob/master/WorkingWithGoogleColab.ipynb\" target=\"_parent\"><img src=\"https://colab.research.google.com/assets/colab-badge.svg\" alt=\"Open In Colab\"/></a>"
      ]
    },
    {
      "metadata": {
        "id": "cQQUv_k_8zeK",
        "colab_type": "text"
      },
      "cell_type": "markdown",
      "source": [
        "This whole notebook is intended to replicate the results of https://github.com/MacgyverCode/Style-Transfer-Colab\n",
        "and learn the workflow of GoogleColab. Please suggest or add any additional features to append."
      ]
    },
    {
      "metadata": {
        "id": "Iy_zSAyoxrE3",
        "colab_type": "code",
        "colab": {}
      },
      "cell_type": "code",
      "source": [
        "#The following code checks whether we have attained a GPU\n",
        "import tensorflow as tf\n",
        "from tensorflow.python.client import device_lib\n",
        "\n",
        "device_name = tf.test.gpu_device_name()\n",
        "\n",
        "if device_name != '/device:GPU:0':\n",
        "  raise SystemError('GPU device not found')\n",
        "print('Found GPU at: {}'.format(device_name))\n",
        "\n",
        "print(\"Show System RAM Memory:\\n\\n\")\n",
        "!cat /proc/meminfo | egrep \"MemTotal*\"\n",
        "\n",
        "\n",
        "print(\"\\n\\nShow Devices:\\n\\n\"+str(device_lib.list_local_devices()))"
      ],
      "execution_count": 0,
      "outputs": []
    },
    {
      "metadata": {
        "id": "Mmbi2734z9-3",
        "colab_type": "code",
        "colab": {}
      },
      "cell_type": "code",
      "source": [
        "#Prepend any shell commands with an `!`\n",
        "#Download neural_style.py\n",
        "#Note that all these files are downloaded in the remote Virtual Machine - As a consequence,\n",
        "#we have to download the files everytime we disconnect from the VM\n",
        "#This code originates from https://github.com/cysmith/neural-style-tf\n",
        "\n",
        "!wget --output-document=neural_style.py 'https://storage.googleapis.com/marketing-files/colab-notebooks/style-transfer/neural_style.py'\n",
        " \n",
        "!cat ./wget-log  \n",
        "  \n",
        "#Download ImageNet VGG Very Deep\n",
        "#VGG-VD models from the Very Deep Convolutional Networks for Large-Scale Visual Recognition project.\n",
        "\n",
        "!wget --output-document=imagenet-vgg-verydeep-19.mat 'https://storage.googleapis.com/marketing-files/colab-notebooks/style-transfer/imagenet-vgg-verydeep-19.mat'\n",
        " "
      ],
      "execution_count": 0,
      "outputs": []
    },
    {
      "metadata": {
        "id": "6lroC6C-0Al5",
        "colab_type": "code",
        "colab": {}
      },
      "cell_type": "code",
      "source": [
        "import re\n",
        "from IPython.display import Image\n",
        "import urllib\n",
        "\n",
        "def download_image_from_URL(imageURL):\n",
        "  imageName = re.search('[a-z0-9\\-]+\\.(jpe?g|png|gif|bmp)', imageURL, re.IGNORECASE)\n",
        "  imageName = imageName.group(0)\n",
        "  urllib.request.urlretrieve(imageURL, imageName)\n",
        "  imagePath = \"./\" + imageName\n",
        "  return imagePath\n",
        "   \n",
        "#Download Image from URL and Store Path in Variable\n",
        "\n",
        "#Content image model.jpg\n",
        "imageDownload1 = download_image_from_URL(\"https://storage.googleapis.com/marketing-files/colab-notebooks/style-transfer/model.jpg\")\n",
        "\n",
        "#Style image oil.jpg\n",
        "imageDownload2 = download_image_from_URL(\"https://storage.googleapis.com/marketing-files/colab-notebooks/style-transfer/oil.jpeg\")\n",
        "\n",
        "#Style image polygon-2.jpg\n",
        "imageDownload3 = download_image_from_URL(\"https://storage.googleapis.com/marketing-files/colab-notebooks/style-transfer/polygon-2.png\")\n",
        "\n",
        "#Display Local Image\n",
        "Image(imageDownload2)  "
      ],
      "execution_count": 0,
      "outputs": []
    },
    {
      "metadata": {
        "id": "bzw6chRD6zFE",
        "colab_type": "code",
        "colab": {}
      },
      "cell_type": "code",
      "source": [
        "from IPython.display import Image\n",
        "\n",
        "\n",
        "! python neural_style.py --content_img_dir ./ \\\n",
        "                       --content_img model.jpg \\\n",
        "                       --style_imgs_dir ./ \\\n",
        "                       --style_imgs oil.jpeg \\\n",
        "                       --style_imgs_weights 1  \\\n",
        "                       --max_iterations 55 \\\n",
        "                       --max_size 575 \\\n",
        "                       --img_name output \\\n",
        "                       --content_weight 1 \\\n",
        "                       --original_colors \\\n",
        "                       --device /gpu:0 \\\n",
        "                       --img_output_dir ./ \\\n",
        "                       --verbose;\n",
        "                    \n",
        "# Print Final Image\n",
        "Image('./output/output.png')"
      ],
      "execution_count": 0,
      "outputs": []
    },
    {
      "metadata": {
        "id": "Qv4zheZY_JPg",
        "colab_type": "code",
        "colab": {}
      },
      "cell_type": "code",
      "source": [
        ""
      ],
      "execution_count": 0,
      "outputs": []
    }
  ]
}